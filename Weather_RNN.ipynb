{
  "nbformat": 4,
  "nbformat_minor": 0,
  "metadata": {
    "colab": {
      "provenance": [],
      "authorship_tag": "ABX9TyPnr21z15gv+suDjGXj9d9O",
      "include_colab_link": true
    },
    "kernelspec": {
      "name": "python3",
      "display_name": "Python 3"
    },
    "language_info": {
      "name": "python"
    }
  },
  "cells": [
    {
      "cell_type": "markdown",
      "metadata": {
        "id": "view-in-github",
        "colab_type": "text"
      },
      "source": [
        "<a href=\"https://colab.research.google.com/github/arian-gif/Weather/blob/main/Weather_RNN.ipynb\" target=\"_parent\"><img src=\"https://colab.research.google.com/assets/colab-badge.svg\" alt=\"Open In Colab\"/></a>"
      ]
    },
    {
      "cell_type": "markdown",
      "source": [
        "# Weather RNN\n"
      ],
      "metadata": {
        "id": "vcuPTDSBslWl"
      }
    },
    {
      "cell_type": "markdown",
      "source": [
        "## Importing Libraries"
      ],
      "metadata": {
        "id": "Cr6LvWJGsrkM"
      }
    },
    {
      "cell_type": "code",
      "execution_count": 26,
      "metadata": {
        "id": "0jyJZHnZqgKJ"
      },
      "outputs": [],
      "source": [
        "import numpy as np\n",
        "import pandas as pd\n",
        "import torch\n",
        "import torch.nn as nn\n",
        "import torch.optim as optim"
      ]
    },
    {
      "cell_type": "markdown",
      "source": [
        "## Data Preprocessing"
      ],
      "metadata": {
        "id": "ccSrVf5ntM-w"
      }
    },
    {
      "cell_type": "code",
      "source": [
        "dataset = pd.read_csv('weather_data.csv')\n",
        "y = dataset.iloc[:, 2].values"
      ],
      "metadata": {
        "id": "YVgvPecPtywW"
      },
      "execution_count": 27,
      "outputs": []
    },
    {
      "cell_type": "markdown",
      "source": [
        "### Encoding the Date"
      ],
      "metadata": {
        "id": "gJp7CiD11ASV"
      }
    },
    {
      "cell_type": "code",
      "source": [
        "dataset = dataset.drop(dataset.columns[2], axis=1)\n",
        "dataset['Date_Time'] = pd.to_datetime(dataset['Date_Time'])\n",
        "\n",
        "def encode_cyclical(data, max_val):\n",
        "    sin = np.sin(2 * np.pi * data / max_val)\n",
        "    cos = np.cos(2 * np.pi * data / max_val)\n",
        "    return sin, cos\n",
        "\n",
        "day_sin, day_cos = encode_cyclical(dataset['Date_Time'].dt.dayofyear, 366)\n",
        "hour_sin, hour_cos = encode_cyclical(dataset['Date_Time'].dt.hour, 24)\n",
        "\n",
        "dataset['day_of_year_sin'] = day_sin\n",
        "dataset['day_of_year_cos'] = day_cos\n",
        "dataset['hour_sin'] = hour_sin\n",
        "dataset['hour_cos'] = hour_cos\n",
        "\n",
        "dataset = dataset.drop(columns=['Date_Time'])\n",
        "X = dataset.values"
      ],
      "metadata": {
        "id": "IHCB2Vv52LVg"
      },
      "execution_count": 28,
      "outputs": []
    },
    {
      "cell_type": "markdown",
      "source": [
        "### Encoding categorical data\n"
      ],
      "metadata": {
        "id": "62fAO4TJyxXL"
      }
    },
    {
      "cell_type": "markdown",
      "source": [
        "### One Hot Encoding the States\n"
      ],
      "metadata": {
        "id": "uoNqWYVHy3YI"
      }
    },
    {
      "cell_type": "code",
      "source": [
        "from sklearn.compose import ColumnTransformer\n",
        "from sklearn.preprocessing import OneHotEncoder\n",
        "ct = ColumnTransformer(transformers=[('encoder', OneHotEncoder(), [0])], remainder='passthrough')\n",
        "X= np.array(ct.fit_transform(X))"
      ],
      "metadata": {
        "id": "EGmQ5kcu00Ky"
      },
      "execution_count": 29,
      "outputs": []
    },
    {
      "cell_type": "markdown",
      "source": [
        "### Training and Test Set Split"
      ],
      "metadata": {
        "id": "_g-FAixpLkfM"
      }
    },
    {
      "cell_type": "code",
      "source": [
        "from sklearn.model_selection import train_test_split\n",
        "X_train, X_test, y_train, y_test = train_test_split(X, y, test_size = 0.2, random_state = 0)"
      ],
      "metadata": {
        "id": "ejp8Gp23LqJN"
      },
      "execution_count": 30,
      "outputs": []
    },
    {
      "cell_type": "markdown",
      "source": [
        "### Feature Scale"
      ],
      "metadata": {
        "id": "yjyzuok6L4nH"
      }
    },
    {
      "cell_type": "code",
      "source": [
        "from sklearn.preprocessing import StandardScaler\n",
        "sc_X = StandardScaler()\n",
        "sc_y = StandardScaler()\n",
        "X_train = sc_X.fit_transform(X_train)\n",
        "X_test = sc_X.transform(X_test)\n",
        "y_train = sc_y.fit_transform(y_train.reshape(-1, 1))\n",
        "y_test = sc_y.transform(y_test.reshape(-1, 1))"
      ],
      "metadata": {
        "id": "A_NsK8vbMES8"
      },
      "execution_count": 31,
      "outputs": []
    },
    {
      "cell_type": "markdown",
      "source": [
        "### Create Tensors"
      ],
      "metadata": {
        "id": "bSU1T1uVHHZn"
      }
    },
    {
      "cell_type": "code",
      "source": [
        "X_train = X_train.astype(np.float32)\n",
        "X_test = X_test.astype(np.float32)\n",
        "X_train_tensor = torch.tensor(X_train, dtype=torch.float32).unsqueeze(1)\n",
        "X_test_tensor = torch.tensor(X_train, dtype=torch.float32).unsqueeze(1)\n",
        "\n",
        "y_train_tensor = torch.tensor(y_train, dtype=torch.long)\n",
        "y_train_tensor = y_train_tensor.view(-1, 1).float()\n",
        "y_test_tensor = torch.tensor(y_test, dtype=torch.long)\n",
        "y_test_tensor = y_train_tensor.view(-1, 1).float()\n"
      ],
      "metadata": {
        "id": "IzNTNK4NHNGR"
      },
      "execution_count": 32,
      "outputs": []
    },
    {
      "cell_type": "markdown",
      "source": [
        "## Building the RNN"
      ],
      "metadata": {
        "id": "R_mtYfUz8sHf"
      }
    },
    {
      "cell_type": "markdown",
      "source": [
        "### Create the Model\n"
      ],
      "metadata": {
        "id": "Y7mJuqI79TcB"
      }
    },
    {
      "cell_type": "code",
      "source": [
        "class WeatherRNN(nn.Module):\n",
        "  def __init__(self, input_size, rnn_hidden, hidden1, hidden2, output_size):\n",
        "    super(WeatherRNN, self).__init__()\n",
        "    self.rnn = nn.RNN(input_size, rnn_hidden, num_layers=2, batch_first=True)\n",
        "    self.fc1 = nn.Linear(rnn_hidden, hidden1)\n",
        "    self.tanh = nn.Tanh()\n",
        "    self.fc2 = nn.Linear(hidden1, hidden2)\n",
        "    self.fc_out = nn.Linear(hidden2, output_size)\n",
        "\n",
        "  def forward(self, x):\n",
        "    rnn_out, _ = self.rnn(x)\n",
        "    last_step = rnn_out[:, -1, :]\n",
        "    x = self.tanh(self.fc1(last_step))\n",
        "    x = self.tanh(self.fc2(x))\n",
        "    output = self.fc_out(x)\n",
        "    return output\n"
      ],
      "metadata": {
        "id": "sp6xnlMe9WGg"
      },
      "execution_count": 33,
      "outputs": []
    },
    {
      "cell_type": "markdown",
      "source": [
        "### Initalize the Model"
      ],
      "metadata": {
        "id": "OcxgzHnnGHJr"
      }
    },
    {
      "cell_type": "code",
      "source": [
        "num_classes = int(torch.max(y_train_tensor).item() + 1)\n",
        "model = WeatherRNN(input_size=17, rnn_hidden=32, hidden1=64, hidden2=32, output_size=num_classes)\n",
        "criterion = nn.MSELoss()\n",
        "optimizer = optim.Adam(model.parameters(), lr=0.01)"
      ],
      "metadata": {
        "id": "ZRp3EkH6GKiy"
      },
      "execution_count": 34,
      "outputs": []
    },
    {
      "cell_type": "markdown",
      "source": [
        "### Train the model"
      ],
      "metadata": {
        "id": "KQkURJ95FtiK"
      }
    },
    {
      "cell_type": "code",
      "source": [
        "for epoch in range(32):\n",
        "    outputs = model(X_train_tensor)\n",
        "    loss = criterion(outputs, y_train_tensor)\n",
        "\n",
        "    optimizer.zero_grad()\n",
        "    loss.backward()\n",
        "    optimizer.step()\n",
        "\n",
        "    print(f\"Epoch [{epoch+1}/{32}], Loss: {loss.item():.4f}\")"
      ],
      "metadata": {
        "colab": {
          "base_uri": "https://localhost:8080/"
        },
        "id": "0985ez1-F1JC",
        "outputId": "28b70516-9120-4e37-c1f0-ded256fcf560"
      },
      "execution_count": 35,
      "outputs": [
        {
          "output_type": "stream",
          "name": "stderr",
          "text": [
            "/usr/local/lib/python3.11/dist-packages/torch/nn/modules/loss.py:610: UserWarning: Using a target size (torch.Size([800000, 1])) that is different to the input size (torch.Size([800000, 2])). This will likely lead to incorrect results due to broadcasting. Please ensure they have the same size.\n",
            "  return F.mse_loss(input, target, reduction=self.reduction)\n"
          ]
        },
        {
          "output_type": "stream",
          "name": "stdout",
          "text": [
            "Epoch [1/32], Loss: 0.4350\n",
            "Epoch [2/32], Loss: 0.4467\n",
            "Epoch [3/32], Loss: 0.4279\n",
            "Epoch [4/32], Loss: 0.4267\n",
            "Epoch [5/32], Loss: 0.4274\n",
            "Epoch [6/32], Loss: 0.4259\n",
            "Epoch [7/32], Loss: 0.4242\n",
            "Epoch [8/32], Loss: 0.4247\n",
            "Epoch [9/32], Loss: 0.4256\n",
            "Epoch [10/32], Loss: 0.4248\n",
            "Epoch [11/32], Loss: 0.4240\n",
            "Epoch [12/32], Loss: 0.4240\n",
            "Epoch [13/32], Loss: 0.4242\n",
            "Epoch [14/32], Loss: 0.4243\n",
            "Epoch [15/32], Loss: 0.4243\n",
            "Epoch [16/32], Loss: 0.4240\n",
            "Epoch [17/32], Loss: 0.4238\n",
            "Epoch [18/32], Loss: 0.4238\n",
            "Epoch [19/32], Loss: 0.4237\n",
            "Epoch [20/32], Loss: 0.4236\n",
            "Epoch [21/32], Loss: 0.4236\n",
            "Epoch [22/32], Loss: 0.4236\n",
            "Epoch [23/32], Loss: 0.4235\n",
            "Epoch [24/32], Loss: 0.4235\n",
            "Epoch [25/32], Loss: 0.4235\n",
            "Epoch [26/32], Loss: 0.4234\n",
            "Epoch [27/32], Loss: 0.4233\n",
            "Epoch [28/32], Loss: 0.4233\n",
            "Epoch [29/32], Loss: 0.4232\n",
            "Epoch [30/32], Loss: 0.4232\n",
            "Epoch [31/32], Loss: 0.4232\n",
            "Epoch [32/32], Loss: 0.4231\n"
          ]
        }
      ]
    },
    {
      "cell_type": "markdown",
      "source": [
        "## Predictions"
      ],
      "metadata": {
        "id": "QkIpou6sNaZN"
      }
    },
    {
      "cell_type": "code",
      "source": [
        "model.eval()\n",
        "with torch.no_grad():\n",
        "    predictions = model(X_test_tensor)\n",
        "\n",
        "preds_np = predictions.numpy()\n",
        "y_pred_original =  sc_y.inverse_transform(preds_np)\n",
        "y_test_original = sc_y.inverse_transform(y_test_tensor.numpy())\n",
        "\n"
      ],
      "metadata": {
        "id": "96BmUXU6N6s4"
      },
      "execution_count": 36,
      "outputs": []
    }
  ]
}